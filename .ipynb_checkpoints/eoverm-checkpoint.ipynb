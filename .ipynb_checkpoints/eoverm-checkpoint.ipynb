{
 "cells": [
  {
   "cell_type": "code",
   "execution_count": 4,
   "id": "b8d06efd-9a9b-4997-8803-23edf1dd5c51",
   "metadata": {},
   "outputs": [],
   "source": [
    "import numpy as np\n",
    "import pandas as pd\n",
    "\n",
    "import matplotlib.pyplot as plt\n",
    "from matplotlib.pylab import rcParams\n",
    "\n",
    "from scipy.optimize import curve_fit"
   ]
  },
  {
   "cell_type": "code",
   "execution_count": 5,
   "id": "a427a759-ef2e-4d38-b660-08ef7ca88d03",
   "metadata": {},
   "outputs": [],
   "source": [
    "rcParams['figure.figsize'] = 10, 10\n",
    "rcParams['font.family'] = 'Times New Roman' # font familyの設定\n",
    "rcParams['mathtext.fontset'] = 'stix' # math fontの設定"
   ]
  },
  {
   "cell_type": "code",
   "execution_count": 10,
   "id": "6f57776d-29a7-4959-9484-2bdcf2dd7a5a",
   "metadata": {},
   "outputs": [],
   "source": [
    "I=np.array([1.3,1.5,1.7])\n",
    "V=np.array([140,150,180])"
   ]
  },
  {
   "cell_type": "code",
   "execution_count": 17,
   "id": "083d8694-256f-4852-930f-48a71fdbf9bc",
   "metadata": {},
   "outputs": [],
   "source": [
    "f1={} # empty dictionary\n",
    "f2={}\n",
    "\n",
    "for i in I:\n",
    "    f1[i]=pd.read_csv(f'./eoverm/eoverm_ifixed_i{i}.csv')\n",
    "for v in V:\n",
    "    f2[v]=pd.read_csv(f'./eoverm/eoverm_vfixed_v{v}.csv')"
   ]
  },
  {
   "cell_type": "code",
   "execution_count": 19,
   "id": "2578dea9-6f02-4857-a14d-1d933300a5d7",
   "metadata": {},
   "outputs": [
    {
     "data": {
      "text/html": [
       "<div>\n",
       "<style scoped>\n",
       "    .dataframe tbody tr th:only-of-type {\n",
       "        vertical-align: middle;\n",
       "    }\n",
       "\n",
       "    .dataframe tbody tr th {\n",
       "        vertical-align: top;\n",
       "    }\n",
       "\n",
       "    .dataframe thead th {\n",
       "        text-align: right;\n",
       "    }\n",
       "</style>\n",
       "<table border=\"1\" class=\"dataframe\">\n",
       "  <thead>\n",
       "    <tr style=\"text-align: right;\">\n",
       "      <th></th>\n",
       "      <th>V</th>\n",
       "      <th>2R</th>\n",
       "    </tr>\n",
       "  </thead>\n",
       "  <tbody>\n",
       "    <tr>\n",
       "      <th>0</th>\n",
       "      <td>120</td>\n",
       "      <td>5.398</td>\n",
       "    </tr>\n",
       "    <tr>\n",
       "      <th>1</th>\n",
       "      <td>150</td>\n",
       "      <td>6.830</td>\n",
       "    </tr>\n",
       "    <tr>\n",
       "      <th>2</th>\n",
       "      <td>180</td>\n",
       "      <td>7.638</td>\n",
       "    </tr>\n",
       "    <tr>\n",
       "      <th>3</th>\n",
       "      <td>200</td>\n",
       "      <td>8.015</td>\n",
       "    </tr>\n",
       "    <tr>\n",
       "      <th>4</th>\n",
       "      <td>220</td>\n",
       "      <td>8.813</td>\n",
       "    </tr>\n",
       "    <tr>\n",
       "      <th>5</th>\n",
       "      <td>240</td>\n",
       "      <td>9.065</td>\n",
       "    </tr>\n",
       "  </tbody>\n",
       "</table>\n",
       "</div>"
      ],
      "text/plain": [
       "     V     2R\n",
       "0  120  5.398\n",
       "1  150  6.830\n",
       "2  180  7.638\n",
       "3  200  8.015\n",
       "4  220  8.813\n",
       "5  240  9.065"
      ]
     },
     "execution_count": 19,
     "metadata": {},
     "output_type": "execute_result"
    }
   ],
   "source": [
    "f1[1.3]"
   ]
  },
  {
   "cell_type": "code",
   "execution_count": 26,
   "id": "28b21017-fb24-4ead-a96e-096ceb01c26e",
   "metadata": {},
   "outputs": [],
   "source": [
    "# 値の参照の仕方"
   ]
  },
  {
   "cell_type": "code",
   "execution_count": 20,
   "id": "6a5711a0-f340-41e0-8242-944e4c00b237",
   "metadata": {},
   "outputs": [
    {
     "data": {
      "text/html": [
       "<div>\n",
       "<style scoped>\n",
       "    .dataframe tbody tr th:only-of-type {\n",
       "        vertical-align: middle;\n",
       "    }\n",
       "\n",
       "    .dataframe tbody tr th {\n",
       "        vertical-align: top;\n",
       "    }\n",
       "\n",
       "    .dataframe thead th {\n",
       "        text-align: right;\n",
       "    }\n",
       "</style>\n",
       "<table border=\"1\" class=\"dataframe\">\n",
       "  <thead>\n",
       "    <tr style=\"text-align: right;\">\n",
       "      <th></th>\n",
       "      <th>I</th>\n",
       "      <th>2R</th>\n",
       "    </tr>\n",
       "  </thead>\n",
       "  <tbody>\n",
       "    <tr>\n",
       "      <th>0</th>\n",
       "      <td>1.1</td>\n",
       "      <td>6.100</td>\n",
       "    </tr>\n",
       "    <tr>\n",
       "      <th>1</th>\n",
       "      <td>1.2</td>\n",
       "      <td>5.792</td>\n",
       "    </tr>\n",
       "    <tr>\n",
       "      <th>2</th>\n",
       "      <td>1.3</td>\n",
       "      <td>5.398</td>\n",
       "    </tr>\n",
       "    <tr>\n",
       "      <th>3</th>\n",
       "      <td>1.5</td>\n",
       "      <td>4.765</td>\n",
       "    </tr>\n",
       "    <tr>\n",
       "      <th>4</th>\n",
       "      <td>1.6</td>\n",
       "      <td>4.204</td>\n",
       "    </tr>\n",
       "    <tr>\n",
       "      <th>5</th>\n",
       "      <td>1.7</td>\n",
       "      <td>4.114</td>\n",
       "    </tr>\n",
       "    <tr>\n",
       "      <th>6</th>\n",
       "      <td>1.8</td>\n",
       "      <td>3.719</td>\n",
       "    </tr>\n",
       "  </tbody>\n",
       "</table>\n",
       "</div>"
      ],
      "text/plain": [
       "     I     2R\n",
       "0  1.1  6.100\n",
       "1  1.2  5.792\n",
       "2  1.3  5.398\n",
       "3  1.5  4.765\n",
       "4  1.6  4.204\n",
       "5  1.7  4.114\n",
       "6  1.8  3.719"
      ]
     },
     "execution_count": 20,
     "metadata": {},
     "output_type": "execute_result"
    }
   ],
   "source": [
    "f2[140]"
   ]
  },
  {
   "cell_type": "code",
   "execution_count": 25,
   "id": "16dce632-0e9e-4c06-97f2-a3e23cf45ea6",
   "metadata": {},
   "outputs": [
    {
     "data": {
      "text/plain": [
       "120"
      ]
     },
     "execution_count": 25,
     "metadata": {},
     "output_type": "execute_result"
    }
   ],
   "source": [
    "f1[1.3]['V'][0]"
   ]
  },
  {
   "cell_type": "code",
   "execution_count": null,
   "id": "88a6c8af-40a2-47a0-90d7-f31a51766378",
   "metadata": {},
   "outputs": [],
   "source": [
    "r=2\n",
    "fig, ax = plt.subplots(figsize=(r*8,r*6))\n",
    "ax.set_xlim(0,300)\n",
    "ax.set_ylim(4,10)\n",
    "ax.set_xlabel(r'$V$', fontsize=40)\n",
    "ax.set_ylabel(r\"$2R$\", fontsize=40)\n",
    "ax.tick_params(labelsize=30)\n",
    "\n",
    "#ax.set_xticks([0.0,0.2,0.4,0.6,0.8,1.0])\n",
    "#ax.set_yticks([0.0,0.1,0.2,0.3,0.4,0.5,0.6,0.7,0.8,0.9,1.0])\n",
    "\n",
    "fmt='o'\n",
    "\n",
    "for i in I:\n",
    "    label=f'$I={I}$'\n",
    "    color = \"blue\"\n",
    "    ax.plot(wstr,OTOC[noise,:,pos],'-',color=color,fmt=fmt,label=label)\n",
    "\n",
    "\n",
    "plt.plot(v1,twor1,'b.-',label=r'$I_H=1.3$')\n",
    "plt.plot(v2,twor2,'r.-',label=r'$I_H=1.5$')\n",
    "plt.plot(v3,twor3,'g.-',label=r'$I_H=1.7$')\n",
    "\n",
    "legend=plt.legend(bbox_to_anchor=(0.0,1.0), loc='upper left', borderaxespad=1, fontsize=12, ncol=1)\n",
    "frame = legend.get_frame()\n",
    "frame.set_linewidth(0)\n",
    "\n",
    "\n",
    "plt.show()"
   ]
  },
  {
   "cell_type": "code",
   "execution_count": null,
   "id": "ef6f6304-49a2-49a5-9327-3cf5a8e3bf83",
   "metadata": {},
   "outputs": [],
   "source": [
    "\n",
    "cmap = plt.get_cmap(\"tab10\")\n",
    "msize=12\n",
    "csize=12\n",
    "elinewidth=4\n",
    "\n",
    "noise=0\n",
    "\n",
    "pos=2\n",
    "label = rf\"$x={pos}$\"\n",
    "ax.errorbar(wstr, OTOC[noise,:,pos], yerr = OTOC_err[noise,:,pos], capsize=csize, fmt='o', markersize=msize,elinewidth=elinewidth, ecolor=color, markeredgecolor = color, color=color, label=label)\n",
    "\n",
    "\n",
    "\n",
    "ax.set_title(rf\"ibm_fez: $n={T}$\", fontsize=30)\n",
    "legend=ax.legend(bbox_to_anchor=(1, 0), loc='lower right', borderaxespad=1,fontsize=30,ncol=2)\n",
    "frame = legend.get_frame()\n",
    "frame.set_linewidth(0)\n",
    "fig.tight_layout()\n",
    "fig.savefig(rf\"./otoc/otoc_T{T}_xchange_Wdep_error.pdf\")\n"
   ]
  }
 ],
 "metadata": {
  "kernelspec": {
   "display_name": "Python 3 (ipykernel)",
   "language": "python",
   "name": "python3"
  },
  "language_info": {
   "codemirror_mode": {
    "name": "ipython",
    "version": 3
   },
   "file_extension": ".py",
   "mimetype": "text/x-python",
   "name": "python",
   "nbconvert_exporter": "python",
   "pygments_lexer": "ipython3",
   "version": "3.11.5"
  }
 },
 "nbformat": 4,
 "nbformat_minor": 5
}
