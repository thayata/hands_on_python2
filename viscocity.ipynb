{
 "cells": [
  {
   "cell_type": "code",
   "execution_count": 30,
   "metadata": {},
   "outputs": [],
   "source": [
    "import numpy as np\n",
    "import matplotlib.pyplot as plt\n",
    "import pandas as pd"
   ]
  },
  {
   "cell_type": "code",
   "execution_count": 31,
   "metadata": {},
   "outputs": [],
   "source": [
    "from scipy.optimize import curve_fit"
   ]
  },
  {
   "cell_type": "code",
   "execution_count": 32,
   "metadata": {},
   "outputs": [],
   "source": [
    "from math import pi"
   ]
  },
  {
   "cell_type": "markdown",
   "metadata": {},
   "source": [
    "<img src='./viscosity/viscosity.png' width='50%'>"
   ]
  },
  {
   "cell_type": "code",
   "execution_count": 33,
   "metadata": {},
   "outputs": [],
   "source": [
    "a=np.array([0.1279,0.1462])"
   ]
  },
  {
   "cell_type": "code",
   "execution_count": 34,
   "metadata": {},
   "outputs": [],
   "source": [
    "f1={} # empty dictionary\n",
    "\n",
    "for aa in a:\n",
    "    f1[aa]=pd.read_csv(f'./viscosity/viscosity_a{aa}.csv')\n"
   ]
  },
  {
   "cell_type": "code",
   "execution_count": 35,
   "metadata": {},
   "outputs": [
    {
     "data": {
      "text/html": [
       "<div>\n",
       "<style scoped>\n",
       "    .dataframe tbody tr th:only-of-type {\n",
       "        vertical-align: middle;\n",
       "    }\n",
       "\n",
       "    .dataframe tbody tr th {\n",
       "        vertical-align: top;\n",
       "    }\n",
       "\n",
       "    .dataframe thead th {\n",
       "        text-align: right;\n",
       "    }\n",
       "</style>\n",
       "<table border=\"1\" class=\"dataframe\">\n",
       "  <thead>\n",
       "    <tr style=\"text-align: right;\">\n",
       "      <th></th>\n",
       "      <th>M</th>\n",
       "      <th>h1</th>\n",
       "      <th>h2</th>\n",
       "    </tr>\n",
       "  </thead>\n",
       "  <tbody>\n",
       "    <tr>\n",
       "      <th>0</th>\n",
       "      <td>83.9600</td>\n",
       "      <td>558.5</td>\n",
       "      <td>151.0</td>\n",
       "    </tr>\n",
       "    <tr>\n",
       "      <th>1</th>\n",
       "      <td>77.8500</td>\n",
       "      <td>558.5</td>\n",
       "      <td>198.0</td>\n",
       "    </tr>\n",
       "    <tr>\n",
       "      <th>2</th>\n",
       "      <td>68.6100</td>\n",
       "      <td>558.5</td>\n",
       "      <td>251.0</td>\n",
       "    </tr>\n",
       "    <tr>\n",
       "      <th>3</th>\n",
       "      <td>59.3050</td>\n",
       "      <td>558.5</td>\n",
       "      <td>300.5</td>\n",
       "    </tr>\n",
       "    <tr>\n",
       "      <th>4</th>\n",
       "      <td>49.8000</td>\n",
       "      <td>558.5</td>\n",
       "      <td>352.0</td>\n",
       "    </tr>\n",
       "    <tr>\n",
       "      <th>5</th>\n",
       "      <td>40.5650</td>\n",
       "      <td>558.5</td>\n",
       "      <td>400.0</td>\n",
       "    </tr>\n",
       "    <tr>\n",
       "      <th>6</th>\n",
       "      <td>29.5050</td>\n",
       "      <td>558.5</td>\n",
       "      <td>451.0</td>\n",
       "    </tr>\n",
       "    <tr>\n",
       "      <th>7</th>\n",
       "      <td>24.2200</td>\n",
       "      <td>558.5</td>\n",
       "      <td>471.0</td>\n",
       "    </tr>\n",
       "    <tr>\n",
       "      <th>8</th>\n",
       "      <td>18.2850</td>\n",
       "      <td>558.5</td>\n",
       "      <td>492.0</td>\n",
       "    </tr>\n",
       "    <tr>\n",
       "      <th>9</th>\n",
       "      <td>16.4150</td>\n",
       "      <td>558.5</td>\n",
       "      <td>500.0</td>\n",
       "    </tr>\n",
       "    <tr>\n",
       "      <th>10</th>\n",
       "      <td>13.0250</td>\n",
       "      <td>558.5</td>\n",
       "      <td>511.0</td>\n",
       "    </tr>\n",
       "    <tr>\n",
       "      <th>11</th>\n",
       "      <td>10.7525</td>\n",
       "      <td>558.5</td>\n",
       "      <td>520.5</td>\n",
       "    </tr>\n",
       "    <tr>\n",
       "      <th>12</th>\n",
       "      <td>7.6650</td>\n",
       "      <td>558.5</td>\n",
       "      <td>530.0</td>\n",
       "    </tr>\n",
       "    <tr>\n",
       "      <th>13</th>\n",
       "      <td>4.4500</td>\n",
       "      <td>558.5</td>\n",
       "      <td>539.5</td>\n",
       "    </tr>\n",
       "  </tbody>\n",
       "</table>\n",
       "</div>"
      ],
      "text/plain": [
       "          M     h1     h2\n",
       "0   83.9600  558.5  151.0\n",
       "1   77.8500  558.5  198.0\n",
       "2   68.6100  558.5  251.0\n",
       "3   59.3050  558.5  300.5\n",
       "4   49.8000  558.5  352.0\n",
       "5   40.5650  558.5  400.0\n",
       "6   29.5050  558.5  451.0\n",
       "7   24.2200  558.5  471.0\n",
       "8   18.2850  558.5  492.0\n",
       "9   16.4150  558.5  500.0\n",
       "10  13.0250  558.5  511.0\n",
       "11  10.7525  558.5  520.5\n",
       "12   7.6650  558.5  530.0\n",
       "13   4.4500  558.5  539.5"
      ]
     },
     "execution_count": 35,
     "metadata": {},
     "output_type": "execute_result"
    }
   ],
   "source": [
    "f1[a[0]] #細管のデータ"
   ]
  },
  {
   "cell_type": "code",
   "execution_count": 36,
   "metadata": {},
   "outputs": [
    {
     "data": {
      "text/html": [
       "<div>\n",
       "<style scoped>\n",
       "    .dataframe tbody tr th:only-of-type {\n",
       "        vertical-align: middle;\n",
       "    }\n",
       "\n",
       "    .dataframe tbody tr th {\n",
       "        vertical-align: top;\n",
       "    }\n",
       "\n",
       "    .dataframe thead th {\n",
       "        text-align: right;\n",
       "    }\n",
       "</style>\n",
       "<table border=\"1\" class=\"dataframe\">\n",
       "  <thead>\n",
       "    <tr style=\"text-align: right;\">\n",
       "      <th></th>\n",
       "      <th>M</th>\n",
       "      <th>h1</th>\n",
       "      <th>h2</th>\n",
       "    </tr>\n",
       "  </thead>\n",
       "  <tbody>\n",
       "    <tr>\n",
       "      <th>0</th>\n",
       "      <td>111.5800</td>\n",
       "      <td>558.5</td>\n",
       "      <td>150</td>\n",
       "    </tr>\n",
       "    <tr>\n",
       "      <th>1</th>\n",
       "      <td>107.3200</td>\n",
       "      <td>558.5</td>\n",
       "      <td>200</td>\n",
       "    </tr>\n",
       "    <tr>\n",
       "      <th>2</th>\n",
       "      <td>96.8800</td>\n",
       "      <td>558.5</td>\n",
       "      <td>250</td>\n",
       "    </tr>\n",
       "    <tr>\n",
       "      <th>3</th>\n",
       "      <td>85.9700</td>\n",
       "      <td>558.0</td>\n",
       "      <td>300</td>\n",
       "    </tr>\n",
       "    <tr>\n",
       "      <th>4</th>\n",
       "      <td>73.6600</td>\n",
       "      <td>558.5</td>\n",
       "      <td>350</td>\n",
       "    </tr>\n",
       "    <tr>\n",
       "      <th>5</th>\n",
       "      <td>59.5450</td>\n",
       "      <td>558.5</td>\n",
       "      <td>400</td>\n",
       "    </tr>\n",
       "    <tr>\n",
       "      <th>6</th>\n",
       "      <td>44.7900</td>\n",
       "      <td>558.5</td>\n",
       "      <td>451</td>\n",
       "    </tr>\n",
       "    <tr>\n",
       "      <th>7</th>\n",
       "      <td>37.9500</td>\n",
       "      <td>558.5</td>\n",
       "      <td>470</td>\n",
       "    </tr>\n",
       "    <tr>\n",
       "      <th>8</th>\n",
       "      <td>31.0150</td>\n",
       "      <td>558.5</td>\n",
       "      <td>490</td>\n",
       "    </tr>\n",
       "    <tr>\n",
       "      <th>9</th>\n",
       "      <td>26.1800</td>\n",
       "      <td>559.0</td>\n",
       "      <td>502</td>\n",
       "    </tr>\n",
       "    <tr>\n",
       "      <th>10</th>\n",
       "      <td>21.4500</td>\n",
       "      <td>559.0</td>\n",
       "      <td>512</td>\n",
       "    </tr>\n",
       "    <tr>\n",
       "      <th>11</th>\n",
       "      <td>15.8200</td>\n",
       "      <td>559.0</td>\n",
       "      <td>523</td>\n",
       "    </tr>\n",
       "    <tr>\n",
       "      <th>12</th>\n",
       "      <td>11.8100</td>\n",
       "      <td>559.0</td>\n",
       "      <td>532</td>\n",
       "    </tr>\n",
       "    <tr>\n",
       "      <th>13</th>\n",
       "      <td>5.7975</td>\n",
       "      <td>559.0</td>\n",
       "      <td>543</td>\n",
       "    </tr>\n",
       "  </tbody>\n",
       "</table>\n",
       "</div>"
      ],
      "text/plain": [
       "           M     h1   h2\n",
       "0   111.5800  558.5  150\n",
       "1   107.3200  558.5  200\n",
       "2    96.8800  558.5  250\n",
       "3    85.9700  558.0  300\n",
       "4    73.6600  558.5  350\n",
       "5    59.5450  558.5  400\n",
       "6    44.7900  558.5  451\n",
       "7    37.9500  558.5  470\n",
       "8    31.0150  558.5  490\n",
       "9    26.1800  559.0  502\n",
       "10   21.4500  559.0  512\n",
       "11   15.8200  559.0  523\n",
       "12   11.8100  559.0  532\n",
       "13    5.7975  559.0  543"
      ]
     },
     "execution_count": 36,
     "metadata": {},
     "output_type": "execute_result"
    }
   ],
   "source": [
    "f1[a[1]] #太管のデータ"
   ]
  },
  {
   "cell_type": "markdown",
   "metadata": {},
   "source": [
    "v0=1/(pi*a^2*t)\n",
    "\n",
    "v=v0/rho\n",
    "\n",
    "eta=pi*a^4*rho*g*t/(8*l)"
   ]
  },
  {
   "cell_type": "code",
   "execution_count": 37,
   "metadata": {},
   "outputs": [],
   "source": [
    "t=15\n",
    "l=38.0\n",
    "g=9.8\n",
    "\n",
    "aa=a[0]\n",
    "m=f1[aa]['M']\n",
    "v0=1/(pi*aa**2*t)\n",
    "v=v0*m\n",
    "h1=f1[aa]['h1']/10\n",
    "h2=f1[aa]['h2']/10\n",
    "h=h1-h2\n",
    "\n",
    "eta0=10**4*pi*g*aa**4*t/(8*l)\n",
    "eta=eta0*(h/m)"
   ]
  },
  {
   "cell_type": "code",
   "execution_count": 38,
   "metadata": {},
   "outputs": [
    {
     "data": {
      "text/plain": [
       "0     40.75\n",
       "1     36.05\n",
       "2     30.75\n",
       "3     25.80\n",
       "4     20.65\n",
       "5     15.85\n",
       "6     10.75\n",
       "7      8.75\n",
       "8      6.65\n",
       "9      5.85\n",
       "10     4.75\n",
       "11     3.80\n",
       "12     2.85\n",
       "13     1.90\n",
       "dtype: float64"
      ]
     },
     "execution_count": 38,
     "metadata": {},
     "output_type": "execute_result"
    }
   ],
   "source": [
    "h"
   ]
  },
  {
   "cell_type": "code",
   "execution_count": 39,
   "metadata": {},
   "outputs": [
    {
     "data": {
      "text/plain": [
       "0     108.915630\n",
       "1     100.989541\n",
       "2      89.003113\n",
       "3      76.932366\n",
       "4      64.602172\n",
       "5      52.622231\n",
       "6      38.274841\n",
       "7      31.418968\n",
       "8      23.719894\n",
       "9      21.294069\n",
       "10     16.896452\n",
       "11     13.948491\n",
       "12      9.943286\n",
       "13      5.772684\n",
       "Name: M, dtype: float64"
      ]
     },
     "execution_count": 39,
     "metadata": {},
     "output_type": "execute_result"
    }
   ],
   "source": [
    "v"
   ]
  },
  {
   "cell_type": "code",
   "execution_count": 40,
   "metadata": {},
   "outputs": [
    {
     "data": {
      "text/plain": [
       "0     1.973018\n",
       "1     1.882446\n",
       "2     1.821938\n",
       "3     1.768496\n",
       "4     1.685647\n",
       "5     1.588377\n",
       "6     1.481115\n",
       "7     1.468621\n",
       "8     1.478436\n",
       "9     1.448741\n",
       "10    1.482490\n",
       "11    1.436647\n",
       "12    1.511501\n",
       "13    1.735679\n",
       "dtype: float64"
      ]
     },
     "execution_count": 40,
     "metadata": {},
     "output_type": "execute_result"
    }
   ],
   "source": [
    "eta"
   ]
  },
  {
   "cell_type": "code",
   "execution_count": 41,
   "metadata": {},
   "outputs": [],
   "source": [
    "t=15\n",
    "l=38.0\n",
    "g=9.8\n",
    "\n",
    "aa=a[1]\n",
    "m=f1[aa]['M']\n",
    "v0=1/(pi*aa**2*t)\n",
    "V=v0*m\n",
    "h1=f1[aa]['h1']/10\n",
    "h2=f1[aa]['h2']/10\n",
    "H=h1-h2\n",
    "\n",
    "eta0=10**4*pi*g*aa**4*t/(8*l)\n",
    "Eta=eta0*(h/m)"
   ]
  },
  {
   "cell_type": "code",
   "execution_count": 42,
   "metadata": {},
   "outputs": [
    {
     "data": {
      "text/plain": [
       "0     40.85\n",
       "1     35.85\n",
       "2     30.85\n",
       "3     25.80\n",
       "4     20.85\n",
       "5     15.85\n",
       "6     10.75\n",
       "7      8.85\n",
       "8      6.85\n",
       "9      5.70\n",
       "10     4.70\n",
       "11     3.60\n",
       "12     2.70\n",
       "13     1.60\n",
       "dtype: float64"
      ]
     },
     "execution_count": 42,
     "metadata": {},
     "output_type": "execute_result"
    }
   ],
   "source": [
    "H"
   ]
  },
  {
   "cell_type": "code",
   "execution_count": 43,
   "metadata": {},
   "outputs": [
    {
     "data": {
      "text/plain": [
       "0     110.777225\n",
       "1     106.547874\n",
       "2      96.182985\n",
       "3      85.351479\n",
       "4      73.130044\n",
       "5      59.116596\n",
       "6      44.467753\n",
       "7      37.676964\n",
       "8      30.791859\n",
       "9      25.991645\n",
       "10     21.295675\n",
       "11     15.706181\n",
       "12     11.725032\n",
       "13      5.755789\n",
       "Name: M, dtype: float64"
      ]
     },
     "execution_count": 43,
     "metadata": {},
     "output_type": "execute_result"
    }
   ],
   "source": [
    "V"
   ]
  },
  {
   "cell_type": "code",
   "execution_count": 44,
   "metadata": {},
   "outputs": [
    {
     "data": {
      "text/plain": [
       "0     2.534687\n",
       "1     2.331351\n",
       "2     2.202897\n",
       "3     2.082840\n",
       "4     1.945680\n",
       "5     1.847426\n",
       "6     1.665753\n",
       "7     1.600219\n",
       "8     1.488103\n",
       "9     1.550848\n",
       "10    1.536914\n",
       "11    1.667095\n",
       "12    1.674858\n",
       "13    2.274552\n",
       "dtype: float64"
      ]
     },
     "execution_count": 44,
     "metadata": {},
     "output_type": "execute_result"
    }
   ],
   "source": [
    "Eta"
   ]
  },
  {
   "cell_type": "code",
   "execution_count": 45,
   "metadata": {},
   "outputs": [
    {
     "data": {
      "image/png": "[encoded data removed]",
      "text/plain": [
       "<Figure size 600x780 with 1 Axes>"
      ]
     },
     "metadata": {},
     "output_type": "display_data"
    }
   ],
   "source": [
    "r=6\n",
    "fig=plt.figure(figsize=(r*1,r*1.3))\n",
    "\n",
    "plt.xlabel('h',fontsize=20)\n",
    "plt.ylabel('$v$',fontsize=20)\n",
    "plt.xscale('log')\n",
    "plt.yscale('log')\n",
    "\n",
    "\n",
    "plt.xlim(1,100)\n",
    "plt.ylim(1,300)\n",
    "plt.tick_params(labelsize=16)\n",
    "\n",
    "plt.plot(h,v,'b.',label=f'a={a[0]}')\n",
    "plt.plot(H,V,'r.',label=f'a={a[1]}')\n",
    "\n",
    "legend=plt.legend(bbox_to_anchor=(0.0,1.0), loc='upper left', borderaxespad=1, fontsize=12, ncol=1)\n",
    "frame = legend.get_frame()\n",
    "frame.set_linewidth(0)\n",
    "\n",
    "plt.show()"
   ]
  },
  {
   "cell_type": "markdown",
   "metadata": {},
   "source": [
    "## 乱流転移の臨界速度を推定する"
   ]
  },
  {
   "cell_type": "code",
   "execution_count": 46,
   "metadata": {},
   "outputs": [],
   "source": [
    "def func(x, a, b):\n",
    "    return a*10**(b*np.log10(x))"
   ]
  },
  {
   "cell_type": "markdown",
   "metadata": {},
   "source": [
    "### 臨界点より上の速度の高度依存性をフィットする"
   ]
  },
  {
   "cell_type": "code",
   "execution_count": 47,
   "metadata": {},
   "outputs": [
    {
     "data": {
      "text/plain": [
       "0    40.85\n",
       "1    35.85\n",
       "2    30.85\n",
       "3    25.80\n",
       "4    20.85\n",
       "5    15.85\n",
       "dtype: float64"
      ]
     },
     "execution_count": 47,
     "metadata": {},
     "output_type": "execute_result"
    }
   ],
   "source": [
    "H[:6] #0始まりで6個の値. フィットする範囲はデータの定性的な振る舞いから判断した。"
   ]
  },
  {
   "cell_type": "code",
   "execution_count": 48,
   "metadata": {},
   "outputs": [
    {
     "data": {
      "text/plain": [
       "5    15.85\n",
       "4    20.85\n",
       "3    25.80\n",
       "2    30.85\n",
       "1    35.85\n",
       "0    40.85\n",
       "dtype: float64"
      ]
     },
     "execution_count": 48,
     "metadata": {},
     "output_type": "execute_result"
    }
   ],
   "source": [
    "#ここでは使わないがもし逆順にソートし直したい場合は次のようにする\n",
    "H[:6][::-1] #0始まりで6個の値"
   ]
  },
  {
   "cell_type": "code",
   "execution_count": 49,
   "metadata": {},
   "outputs": [],
   "source": [
    "popt, pcov = curve_fit(func, H[:6],V[:6])"
   ]
  },
  {
   "cell_type": "code",
   "execution_count": 50,
   "metadata": {},
   "outputs": [
    {
     "data": {
      "text/plain": [
       "(9.94935492341694, 1.2517851533019348)"
      ]
     },
     "execution_count": 50,
     "metadata": {},
     "output_type": "execute_result"
    }
   ],
   "source": [
    "popt[0],np.sqrt(pcov[0,0])"
   ]
  },
  {
   "cell_type": "markdown",
   "metadata": {},
   "source": [
    "### 臨界点より下の速度の高度依存性をフィットする"
   ]
  },
  {
   "cell_type": "code",
   "execution_count": 51,
   "metadata": {},
   "outputs": [
    {
     "data": {
      "text/plain": [
       "7     8.85\n",
       "8     6.85\n",
       "9     5.70\n",
       "10    4.70\n",
       "11    3.60\n",
       "12    2.70\n",
       "dtype: float64"
      ]
     },
     "execution_count": 51,
     "metadata": {},
     "output_type": "execute_result"
    }
   ],
   "source": [
    "H[7:-1]"
   ]
  },
  {
   "cell_type": "code",
   "execution_count": 52,
   "metadata": {},
   "outputs": [],
   "source": [
    "popt2, pcov2 = curve_fit(func, H[7:-1],V[7:-1])"
   ]
  },
  {
   "cell_type": "code",
   "execution_count": 53,
   "metadata": {},
   "outputs": [
    {
     "data": {
      "text/plain": [
       "(4.78639485359553, 0.3499518924007971)"
      ]
     },
     "execution_count": 53,
     "metadata": {},
     "output_type": "execute_result"
    }
   ],
   "source": [
    "popt2[0],np.sqrt(pcov2[0,0])"
   ]
  },
  {
   "cell_type": "code",
   "execution_count": 54,
   "metadata": {},
   "outputs": [
    {
     "data": {
      "image/png": "[encoded data removed]",
      "text/plain": [
       "<Figure size 800x1040 with 1 Axes>"
      ]
     },
     "metadata": {},
     "output_type": "display_data"
    }
   ],
   "source": [
    "r=8\n",
    "fig=plt.figure(figsize=(r*1,r*1.3))\n",
    "\n",
    "plt.xlabel('h',fontsize=20)\n",
    "plt.ylabel('v',fontsize=20)\n",
    "plt.xscale('log')\n",
    "plt.yscale('log')\n",
    "\n",
    "\n",
    "plt.xlim(1,100)\n",
    "plt.ylim(1,300)\n",
    "plt.tick_params(labelsize=16)\n",
    "\n",
    "plt.plot(H,V,'ro',label=f'a={a[1]}')\n",
    "\n",
    "label=f'a={a[1]}'\n",
    "plt.plot(H,50*np.ones(len(H)),'r:')\n",
    "plt.plot(H,func(H,*popt),'r-',label=label)\n",
    "plt.plot(H,func(H,*popt2),'r-')\n",
    "\n",
    "legend=plt.legend(bbox_to_anchor=(0.0,1.0), loc='upper left', borderaxespad=1, fontsize=12, ncol=1)\n",
    "frame = legend.get_frame()\n",
    "frame.set_linewidth(0)\n",
    "\n",
    "plt.show()"
   ]
  },
  {
   "cell_type": "markdown",
   "metadata": {},
   "source": [
    "# 問　同様にして細管の臨界速度を推定し、推定結果をプロットせよ. また、結果から臨界速度を推定せよ."
   ]
  },
  {
   "cell_type": "code",
   "execution_count": 55,
   "metadata": {},
   "outputs": [],
   "source": [
    "### ここにグラフを描くコードを追加\n",
    "\n",
    "\n",
    "\n",
    "\n",
    "\n",
    "\n",
    "\n",
    "\n",
    "\n",
    "\n",
    "\n",
    "\n",
    "\n",
    "\n"
   ]
  },
  {
   "cell_type": "code",
   "execution_count": null,
   "metadata": {},
   "outputs": [],
   "source": []
  },
  {
   "cell_type": "markdown",
   "metadata": {},
   "source": [
    "# 粘性をプロットする"
   ]
  },
  {
   "cell_type": "code",
   "execution_count": 56,
   "metadata": {},
   "outputs": [
    {
     "data": {
      "image/png": "[encoded data removed]",
      "text/plain": [
       "<Figure size 800x1040 with 1 Axes>"
      ]
     },
     "metadata": {},
     "output_type": "display_data"
    }
   ],
   "source": [
    "r=8\n",
    "fig=plt.figure(figsize=(r*1,r*1.3))\n",
    "plt.xlabel('h',fontsize=20)\n",
    "plt.ylabel('eta',fontsize=20)\n",
    "#plt.xscale('log')\n",
    "#plt.yscale('log')\n",
    "\n",
    "\n",
    "plt.xlim(0,50)\n",
    "plt.ylim(0,3.1)\n",
    "plt.tick_params(labelsize=16)\n",
    "\n",
    "plt.plot(h,eta,'b.',label=f'a={a[0]}')\n",
    "plt.plot(H,Eta,'r.',label=f'a={a[1]}')\n",
    "\n",
    "legend=plt.legend(bbox_to_anchor=(0.0,1.0), loc='upper left', borderaxespad=1, fontsize=12, ncol=1)\n",
    "frame = legend.get_frame()\n",
    "frame.set_linewidth(0)\n",
    "\n",
    "plt.show()"
   ]
  },
  {
   "cell_type": "code",
   "execution_count": 57,
   "metadata": {},
   "outputs": [],
   "source": [
    "def func(x, a, b):\n",
    "    return a*x+b"
   ]
  },
  {
   "cell_type": "code",
   "execution_count": 58,
   "metadata": {},
   "outputs": [],
   "source": [
    "popt, pcov = curve_fit(func, h[4:7],eta[4:7])"
   ]
  },
  {
   "cell_type": "code",
   "execution_count": 59,
   "metadata": {},
   "outputs": [
    {
     "data": {
      "text/plain": [
       "(1.2595932441669968, 0.0035975828526755636)"
      ]
     },
     "execution_count": 59,
     "metadata": {},
     "output_type": "execute_result"
    }
   ],
   "source": [
    "popt[1],np.sqrt(pcov[1,1])"
   ]
  },
  {
   "cell_type": "markdown",
   "metadata": {},
   "source": [
    "# eta= 1.23 mPas at T=12 C, 1.27 mPas at T=11 C"
   ]
  },
  {
   "cell_type": "markdown",
   "metadata": {},
   "source": [
    "## 問　同様に太管の粘性を推定せよ. "
   ]
  },
  {
   "cell_type": "code",
   "execution_count": null,
   "metadata": {},
   "outputs": [],
   "source": [
    "## ここに最小二乗法のコードを追加\n",
    "\n",
    "\n",
    "\n",
    "\n",
    "\n",
    "\n",
    "\n",
    "\n",
    "\n",
    "\n",
    "\n",
    "\n"
   ]
  },
  {
   "cell_type": "code",
   "execution_count": null,
   "metadata": {},
   "outputs": [],
   "source": []
  }
 ],
 "metadata": {
  "kernelspec": {
   "display_name": "base",
   "language": "python",
   "name": "python3"
  },
  "language_info": {
   "codemirror_mode": {
    "name": "ipython",
    "version": 3
   },
   "file_extension": ".py",
   "mimetype": "text/x-python",
   "name": "python",
   "nbconvert_exporter": "python",
   "pygments_lexer": "ipython3",
   "version": "3.11.5"
  }
 },
 "nbformat": 4,
 "nbformat_minor": 4
}
